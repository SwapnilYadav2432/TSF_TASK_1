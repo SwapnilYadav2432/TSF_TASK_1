{
 "cells": [
  {
   "cell_type": "markdown",
   "id": "a9c2da0e",
   "metadata": {},
   "source": [
    "# THE SPARKS FOUNDATION - GRADUATE ROTAIONAL INTERNSHIP PROGRAM\n",
    "\n",
    "DATA SCIENCE AND BUSINESS ANALYTICS TASK\n",
    "\n",
    "Task 1- Supervised Learning by Linear Regression in Python.\n",
    "\n",
    "Objective- Predict the percentage of an student based on the no. of study hours.\n",
    "\n",
    "Supervised machine learning algorithms are designed to learn by example. When training a supervised learning algorithm, the training data will consist of inputs paired with the correct outputs. During training, the algorithm will search for patterns in the data that correlate with the desired outputs. After training, a supervised learning algorithm will take input and will determine which label the new inputs will be classified as based on prior training data. The objective of a supervised learning model is to predict the correct label for newly presented input data. A supervised learning algorithm can be written simply as: Y=f(x). Where Y is the predicted output that is determined by a mapping function that assigns a class to an input value x. The function used to connect input features to a predicted output is created by the machine learning model during training.\n",
    "\n",
    "In this model I have used linear Regression to find the desired output.\n",
    "\n",
    "Name- Swapnil Sambhaji Yadav\n",
    "\n",
    "Github- https://github.com/swapnilyadav2432\n",
    "    \n",
    "\n",
    "\n",
    "\n"
   ]
  },
  {
   "cell_type": "markdown",
   "id": "5a10a709",
   "metadata": {},
   "source": [
    "First import liberaries such as pandas, numpy and matplotlib.\n",
    "\n",
    "\n",
    "\n"
   ]
  },
  {
   "cell_type": "code",
   "execution_count": 9,
   "id": "b4d09a35",
   "metadata": {},
   "outputs": [],
   "source": [
    "import numpy as np\n",
    "import pandas as pd\n",
    "import matplotlib.pyplot as plt\n",
    "import sklearn"
   ]
  },
  {
   "cell_type": "markdown",
   "id": "a55c6000",
   "metadata": {},
   "source": [
    "Importing data from given data source i.e. http://bit.ly/w-data consisting of two columns Hour and Score for hours of study and percentage score respectively.\n"
   ]
  },
  {
   "cell_type": "code",
   "execution_count": 10,
   "id": "e280893b",
   "metadata": {},
   "outputs": [
    {
     "name": "stdout",
     "output_type": "stream",
     "text": [
      "Five rows of data imported is-\n"
     ]
    },
    {
     "data": {
      "text/html": [
       "<div>\n",
       "<style scoped>\n",
       "    .dataframe tbody tr th:only-of-type {\n",
       "        vertical-align: middle;\n",
       "    }\n",
       "\n",
       "    .dataframe tbody tr th {\n",
       "        vertical-align: top;\n",
       "    }\n",
       "\n",
       "    .dataframe thead th {\n",
       "        text-align: right;\n",
       "    }\n",
       "</style>\n",
       "<table border=\"1\" class=\"dataframe\">\n",
       "  <thead>\n",
       "    <tr style=\"text-align: right;\">\n",
       "      <th></th>\n",
       "      <th>Hours</th>\n",
       "      <th>Scores</th>\n",
       "    </tr>\n",
       "  </thead>\n",
       "  <tbody>\n",
       "    <tr>\n",
       "      <th>0</th>\n",
       "      <td>2.5</td>\n",
       "      <td>21</td>\n",
       "    </tr>\n",
       "    <tr>\n",
       "      <th>1</th>\n",
       "      <td>5.1</td>\n",
       "      <td>47</td>\n",
       "    </tr>\n",
       "    <tr>\n",
       "      <th>2</th>\n",
       "      <td>3.2</td>\n",
       "      <td>27</td>\n",
       "    </tr>\n",
       "    <tr>\n",
       "      <th>3</th>\n",
       "      <td>8.5</td>\n",
       "      <td>75</td>\n",
       "    </tr>\n",
       "    <tr>\n",
       "      <th>4</th>\n",
       "      <td>3.5</td>\n",
       "      <td>30</td>\n",
       "    </tr>\n",
       "  </tbody>\n",
       "</table>\n",
       "</div>"
      ],
      "text/plain": [
       "   Hours  Scores\n",
       "0    2.5      21\n",
       "1    5.1      47\n",
       "2    3.2      27\n",
       "3    8.5      75\n",
       "4    3.5      30"
      ]
     },
     "execution_count": 10,
     "metadata": {},
     "output_type": "execute_result"
    }
   ],
   "source": [
    "data = \"http://bit.ly/w-data\"\n",
    "s_data = pd.read_csv(data)\n",
    "print(\"Five rows of data imported is-\")\n",
    "\n",
    "s_data.head()"
   ]
  },
  {
   "cell_type": "markdown",
   "id": "cf9cff35",
   "metadata": {},
   "source": [
    "Now plot the imported data on a graph."
   ]
  },
  {
   "cell_type": "code",
   "execution_count": 11,
   "id": "12e170ef",
   "metadata": {},
   "outputs": [
    {
     "data": {
      "image/png": "[encoded data removed]",
      "text/plain": [
       "<Figure size 432x288 with 1 Axes>"
      ]
     },
     "metadata": {
      "needs_background": "light"
     },
     "output_type": "display_data"
    }
   ],
   "source": [
    "s_data.plot(x='Hours', y='Scores', style='s')  \n",
    "plt.title('Hours vs Score')  \n",
    "plt.xlabel('Hours of Study')  \n",
    "plt.ylabel('Percentage Score')  \n",
    "plt.show()"
   ]
  },
  {
   "cell_type": "markdown",
   "id": "eb9675e5",
   "metadata": {},
   "source": [
    "From above graph, we can see that their is positive relation between hours and score"
   ]
  },
  {
   "cell_type": "markdown",
   "id": "ad567c2d",
   "metadata": {},
   "source": [
    "Extracting two variable arrays X and y i.e. hours of study and percentage score respectively."
   ]
  },
  {
   "cell_type": "code",
   "execution_count": 13,
   "id": "10e4c333",
   "metadata": {},
   "outputs": [],
   "source": [
    "X = s_data.iloc[:, :-1].values  \n",
    "y = s_data.iloc[:, 1].values"
   ]
  },
  {
   "cell_type": "markdown",
   "id": "a4d069bf",
   "metadata": {},
   "source": [
    "Splitting the data into Training and Testing sets by using the sklearn library. Here testing size is 0.25 which means that 25% is testing data and 75% is training data."
   ]
  },
  {
   "cell_type": "code",
   "execution_count": 23,
   "id": "0b52798e",
   "metadata": {},
   "outputs": [],
   "source": [
    "from sklearn.model_selection import train_test_split  \n",
    "X_train, X_test, y_train, y_test = train_test_split(X, y,test_size=0.25, random_state=0)\n",
    "                           "
   ]
  },
  {
   "cell_type": "markdown",
   "id": "76d6244e",
   "metadata": {},
   "source": [
    "Now from the sklearn library we import linear regression"
   ]
  },
  {
   "cell_type": "code",
   "execution_count": 18,
   "id": "4b002097",
   "metadata": {},
   "outputs": [
    {
     "data": {
      "text/plain": [
       "LinearRegression()"
      ]
     },
     "execution_count": 18,
     "metadata": {},
     "output_type": "execute_result"
    }
   ],
   "source": [
    "\n",
    "from sklearn.linear_model import LinearRegression  \n",
    "regressor = LinearRegression()  \n",
    "regressor.fit(X_train, y_train)"
   ]
  },
  {
   "cell_type": "markdown",
   "id": "b3538289",
   "metadata": {},
   "source": [
    "Plotting the regression line on graph."
   ]
  },
  {
   "cell_type": "code",
   "execution_count": 24,
   "id": "39b7b2da",
   "metadata": {},
   "outputs": [
    {
     "data": {
      "text/plain": [
       "[<matplotlib.lines.Line2D at 0x270d5cf4400>]"
      ]
     },
     "execution_count": 24,
     "metadata": {},
     "output_type": "execute_result"
    },
    {
     "data": {
      "image/png": "[encoded data removed]",
      "text/plain": [
       "<Figure size 432x288 with 1 Axes>"
      ]
     },
     "metadata": {
      "needs_background": "light"
     },
     "output_type": "display_data"
    }
   ],
   "source": [
    "line = regressor.coef_*X\n",
    "plt.scatter(X, y)\n",
    "plt.plot(X, line, color='red')"
   ]
  },
  {
   "cell_type": "markdown",
   "id": "45f926cb",
   "metadata": {},
   "source": [
    "Using predict function of regressor to predict the percentage score of the students in the testing data and comparing the output with actual data."
   ]
  },
  {
   "cell_type": "code",
   "execution_count": 29,
   "id": "645130f0",
   "metadata": {},
   "outputs": [
    {
     "name": "stdout",
     "output_type": "stream",
     "text": [
      "   Hours of Study  Actual  Predicted\n",
      "0             1.5      20  16.844722\n",
      "1             3.2      27  33.745575\n",
      "2             7.4      69  75.500624\n",
      "3             2.5      30  26.786400\n",
      "4             5.9      62  60.588106\n",
      "5             3.8      35  39.710582\n",
      "6             1.9      24  20.821393\n"
     ]
    }
   ],
   "source": [
    "y_pred = regressor.predict(X_test)\n",
    "df = pd.DataFrame({'Hours of Study': X_test[:,0], 'Actual': y_test, 'Predicted': y_pred})\n",
    "print(df)"
   ]
  },
  {
   "cell_type": "markdown",
   "id": "590104a0",
   "metadata": {},
   "source": [
    "Now calculating Mean Absolute Error"
   ]
  },
  {
   "cell_type": "code",
   "execution_count": 22,
   "id": "ca9ac18c",
   "metadata": {},
   "outputs": [
    {
     "name": "stdout",
     "output_type": "stream",
     "text": [
      "Mean Absolute Error: 4.130879918502486\n"
     ]
    }
   ],
   "source": [
    "from sklearn import metrics  \n",
    "print('Mean Absolute Error:', \n",
    "      metrics.mean_absolute_error(y_test, y_pred))"
   ]
  },
  {
   "cell_type": "markdown",
   "id": "b0adf477",
   "metadata": {},
   "source": [
    "\n",
    "Testing the model with unknown value."
   ]
  },
  {
   "cell_type": "markdown",
   "id": "ddc0fa20",
   "metadata": {},
   "source": [
    "Evaluating the model using Mean Absolute Error(MAE). MAE is the mean of all the absolute error that is the absolute difference between actual value and the predicted value."
   ]
  },
  {
   "cell_type": "code",
   "execution_count": 33,
   "id": "831e8aca",
   "metadata": {},
   "outputs": [
    {
     "name": "stdout",
     "output_type": "stream",
     "text": [
      "Enter hours: 9.25\n",
      "No of Hours = 9.25\n",
      "Predicted Score = 93.89272889341655\n"
     ]
    }
   ],
   "source": [
    "hour=input('Enter hours: ')\n",
    "hours = float(hour)\n",
    "hr=np.array([hours])\n",
    "hr=hr.reshape(-1,1)\n",
    "own_pred = regressor.predict(hr)\n",
    "print(\"No of Hours = {}\".format(hours))\n",
    "print(\"Predicted Score = {}\".format(own_pred[0]))"
   ]
  }
 ],
 "metadata": {
  "kernelspec": {
   "display_name": "Python 3",
   "language": "python",
   "name": "python3"
  },
  "language_info": {
   "codemirror_mode": {
    "name": "ipython",
    "version": 3
   },
   "file_extension": ".py",
   "mimetype": "text/x-python",
   "name": "python",
   "nbconvert_exporter": "python",
   "pygments_lexer": "ipython3",
   "version": "3.6.7"
  }
 },
 "nbformat": 4,
 "nbformat_minor": 5
}
